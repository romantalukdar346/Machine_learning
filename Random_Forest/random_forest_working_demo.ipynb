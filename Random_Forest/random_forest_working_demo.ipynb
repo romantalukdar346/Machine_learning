{
 "cells": [
  {
   "cell_type": "code",
   "execution_count": 62,
   "id": "d77b5cd6",
   "metadata": {},
   "outputs": [],
   "source": [
    "import numpy as np\n",
    "import pandas as pd\n",
    "from sklearn.datasets import make_classification\n",
    "import random"
   ]
  },
  {
   "cell_type": "code",
   "execution_count": 2,
   "id": "34763b48",
   "metadata": {},
   "outputs": [],
   "source": [
    "X,y = make_classification(n_features=5, n_redundant=0, n_informative=5,n_clusters_per_class=1)"
   ]
  },
  {
   "cell_type": "code",
   "execution_count": 4,
   "id": "fd7e5f21",
   "metadata": {},
   "outputs": [
    {
     "data": {
      "text/html": [
       "<div>\n",
       "<style scoped>\n",
       "    .dataframe tbody tr th:only-of-type {\n",
       "        vertical-align: middle;\n",
       "    }\n",
       "\n",
       "    .dataframe tbody tr th {\n",
       "        vertical-align: top;\n",
       "    }\n",
       "\n",
       "    .dataframe thead th {\n",
       "        text-align: right;\n",
       "    }\n",
       "</style>\n",
       "<table border=\"1\" class=\"dataframe\">\n",
       "  <thead>\n",
       "    <tr style=\"text-align: right;\">\n",
       "      <th></th>\n",
       "      <th>col1</th>\n",
       "      <th>col2</th>\n",
       "      <th>col3</th>\n",
       "      <th>col4</th>\n",
       "      <th>col5</th>\n",
       "      <th>target</th>\n",
       "    </tr>\n",
       "  </thead>\n",
       "  <tbody>\n",
       "    <tr>\n",
       "      <th>0</th>\n",
       "      <td>-0.346753</td>\n",
       "      <td>-3.301972</td>\n",
       "      <td>-0.576501</td>\n",
       "      <td>-3.162269</td>\n",
       "      <td>0.025926</td>\n",
       "      <td>0</td>\n",
       "    </tr>\n",
       "    <tr>\n",
       "      <th>1</th>\n",
       "      <td>-5.090288</td>\n",
       "      <td>0.614276</td>\n",
       "      <td>2.448817</td>\n",
       "      <td>1.366684</td>\n",
       "      <td>1.946524</td>\n",
       "      <td>0</td>\n",
       "    </tr>\n",
       "    <tr>\n",
       "      <th>2</th>\n",
       "      <td>0.903301</td>\n",
       "      <td>-0.004551</td>\n",
       "      <td>0.803610</td>\n",
       "      <td>-0.974240</td>\n",
       "      <td>0.485502</td>\n",
       "      <td>0</td>\n",
       "    </tr>\n",
       "    <tr>\n",
       "      <th>3</th>\n",
       "      <td>-2.163112</td>\n",
       "      <td>-1.991644</td>\n",
       "      <td>1.933764</td>\n",
       "      <td>-2.043448</td>\n",
       "      <td>1.172396</td>\n",
       "      <td>0</td>\n",
       "    </tr>\n",
       "    <tr>\n",
       "      <th>4</th>\n",
       "      <td>-0.616846</td>\n",
       "      <td>-2.025876</td>\n",
       "      <td>0.456797</td>\n",
       "      <td>-2.462939</td>\n",
       "      <td>0.339902</td>\n",
       "      <td>0</td>\n",
       "    </tr>\n",
       "  </tbody>\n",
       "</table>\n",
       "</div>"
      ],
      "text/plain": [
       "       col1      col2      col3      col4      col5  target\n",
       "0 -0.346753 -3.301972 -0.576501 -3.162269  0.025926       0\n",
       "1 -5.090288  0.614276  2.448817  1.366684  1.946524       0\n",
       "2  0.903301 -0.004551  0.803610 -0.974240  0.485502       0\n",
       "3 -2.163112 -1.991644  1.933764 -2.043448  1.172396       0\n",
       "4 -0.616846 -2.025876  0.456797 -2.462939  0.339902       0"
      ]
     },
     "execution_count": 4,
     "metadata": {},
     "output_type": "execute_result"
    }
   ],
   "source": [
    "df= pd.DataFrame(X,columns=['col1','col2','col3','col4','col5'])\n",
    "df['target']=y\n",
    "df.head()"
   ]
  },
  {
   "cell_type": "code",
   "execution_count": 5,
   "id": "824b4ebc",
   "metadata": {},
   "outputs": [],
   "source": [
    "# function for row sampling\n",
    "def sample_rows(data,percent):\n",
    "    return data.sample(int(percent*data.shape[0]),replace=True)"
   ]
  },
  {
   "cell_type": "code",
   "execution_count": 63,
   "id": "362d6ec2",
   "metadata": {},
   "outputs": [],
   "source": [
    "def sampling_features(data,percent):\n",
    "    col= random.sample(data.columns.tolist()[:-1],int((data.shape[1]-1)*percent))\n",
    "    df=data[col+['target']]\n",
    "    return df"
   ]
  },
  {
   "cell_type": "code",
   "execution_count": 14,
   "id": "bce62dd7",
   "metadata": {},
   "outputs": [],
   "source": [
    "def combined_sampling(data,row_percent,col_percent):\n",
    "    new_df=sample_rows(data,row_percent)\n",
    "    return sampling_features(new_df,col_percent)"
   ]
  },
  {
   "cell_type": "code",
   "execution_count": 64,
   "id": "ab7b4b20",
   "metadata": {},
   "outputs": [],
   "source": [
    "df1=combined_sampling(df,0.5,0.5)\n",
    "df2=combined_sampling(df,0.5,0.5)\n",
    "df3=combined_sampling(df,0.5,0.5)\n"
   ]
  },
  {
   "cell_type": "code",
   "execution_count": 65,
   "id": "c0d904fc",
   "metadata": {},
   "outputs": [
    {
     "data": {
      "text/plain": [
       "(50, 3)"
      ]
     },
     "execution_count": 65,
     "metadata": {},
     "output_type": "execute_result"
    }
   ],
   "source": [
    "df1.shape"
   ]
  },
  {
   "cell_type": "code",
   "execution_count": 66,
   "id": "f35f8334",
   "metadata": {},
   "outputs": [
    {
     "data": {
      "text/plain": [
       "(50, 3)"
      ]
     },
     "execution_count": 66,
     "metadata": {},
     "output_type": "execute_result"
    }
   ],
   "source": [
    "df3.shape"
   ]
  },
  {
   "cell_type": "code",
   "execution_count": 67,
   "id": "5637beec",
   "metadata": {},
   "outputs": [
    {
     "data": {
      "text/plain": [
       "(50, 3)"
      ]
     },
     "execution_count": 67,
     "metadata": {},
     "output_type": "execute_result"
    }
   ],
   "source": [
    "df2.shape"
   ]
  },
  {
   "cell_type": "code",
   "execution_count": 68,
   "id": "2ede337e",
   "metadata": {},
   "outputs": [
    {
     "name": "stdout",
     "output_type": "stream",
     "text": [
      "Index(['col5', 'col1', 'target'], dtype='object')\n",
      "Index(['col2', 'col5', 'target'], dtype='object')\n",
      "Index(['col1', 'col5', 'target'], dtype='object')\n"
     ]
    }
   ],
   "source": [
    "print(df1.columns)\n",
    "print(df2.columns)\n",
    "print(df3.columns)"
   ]
  },
  {
   "cell_type": "code",
   "execution_count": 73,
   "id": "09c11c21",
   "metadata": {},
   "outputs": [
    {
     "data": {
      "text/html": [
       "<div>\n",
       "<style scoped>\n",
       "    .dataframe tbody tr th:only-of-type {\n",
       "        vertical-align: middle;\n",
       "    }\n",
       "\n",
       "    .dataframe tbody tr th {\n",
       "        vertical-align: top;\n",
       "    }\n",
       "\n",
       "    .dataframe thead th {\n",
       "        text-align: right;\n",
       "    }\n",
       "</style>\n",
       "<table border=\"1\" class=\"dataframe\">\n",
       "  <thead>\n",
       "    <tr style=\"text-align: right;\">\n",
       "      <th></th>\n",
       "      <th>col1</th>\n",
       "      <th>col5</th>\n",
       "      <th>target</th>\n",
       "    </tr>\n",
       "  </thead>\n",
       "  <tbody>\n",
       "    <tr>\n",
       "      <th>30</th>\n",
       "      <td>-1.324493</td>\n",
       "      <td>0.542899</td>\n",
       "      <td>0</td>\n",
       "    </tr>\n",
       "    <tr>\n",
       "      <th>14</th>\n",
       "      <td>0.130145</td>\n",
       "      <td>1.259167</td>\n",
       "      <td>0</td>\n",
       "    </tr>\n",
       "    <tr>\n",
       "      <th>22</th>\n",
       "      <td>-0.927973</td>\n",
       "      <td>-0.385750</td>\n",
       "      <td>0</td>\n",
       "    </tr>\n",
       "    <tr>\n",
       "      <th>10</th>\n",
       "      <td>-0.961543</td>\n",
       "      <td>-0.108072</td>\n",
       "      <td>0</td>\n",
       "    </tr>\n",
       "    <tr>\n",
       "      <th>71</th>\n",
       "      <td>1.075847</td>\n",
       "      <td>0.852421</td>\n",
       "      <td>1</td>\n",
       "    </tr>\n",
       "    <tr>\n",
       "      <th>12</th>\n",
       "      <td>-0.830020</td>\n",
       "      <td>-0.529379</td>\n",
       "      <td>0</td>\n",
       "    </tr>\n",
       "    <tr>\n",
       "      <th>60</th>\n",
       "      <td>1.038624</td>\n",
       "      <td>0.869037</td>\n",
       "      <td>1</td>\n",
       "    </tr>\n",
       "    <tr>\n",
       "      <th>66</th>\n",
       "      <td>1.936865</td>\n",
       "      <td>-0.412443</td>\n",
       "      <td>1</td>\n",
       "    </tr>\n",
       "    <tr>\n",
       "      <th>82</th>\n",
       "      <td>1.988775</td>\n",
       "      <td>-0.337734</td>\n",
       "      <td>1</td>\n",
       "    </tr>\n",
       "    <tr>\n",
       "      <th>59</th>\n",
       "      <td>-2.004889</td>\n",
       "      <td>2.240465</td>\n",
       "      <td>0</td>\n",
       "    </tr>\n",
       "    <tr>\n",
       "      <th>17</th>\n",
       "      <td>0.954778</td>\n",
       "      <td>1.245580</td>\n",
       "      <td>1</td>\n",
       "    </tr>\n",
       "    <tr>\n",
       "      <th>30</th>\n",
       "      <td>-1.324493</td>\n",
       "      <td>0.542899</td>\n",
       "      <td>0</td>\n",
       "    </tr>\n",
       "    <tr>\n",
       "      <th>9</th>\n",
       "      <td>0.534894</td>\n",
       "      <td>1.699557</td>\n",
       "      <td>1</td>\n",
       "    </tr>\n",
       "    <tr>\n",
       "      <th>77</th>\n",
       "      <td>0.126951</td>\n",
       "      <td>2.393584</td>\n",
       "      <td>1</td>\n",
       "    </tr>\n",
       "    <tr>\n",
       "      <th>95</th>\n",
       "      <td>-3.208728</td>\n",
       "      <td>2.470146</td>\n",
       "      <td>0</td>\n",
       "    </tr>\n",
       "    <tr>\n",
       "      <th>24</th>\n",
       "      <td>2.013575</td>\n",
       "      <td>-0.775329</td>\n",
       "      <td>1</td>\n",
       "    </tr>\n",
       "    <tr>\n",
       "      <th>75</th>\n",
       "      <td>-1.694058</td>\n",
       "      <td>0.879623</td>\n",
       "      <td>0</td>\n",
       "    </tr>\n",
       "    <tr>\n",
       "      <th>44</th>\n",
       "      <td>2.363563</td>\n",
       "      <td>-0.938748</td>\n",
       "      <td>1</td>\n",
       "    </tr>\n",
       "    <tr>\n",
       "      <th>76</th>\n",
       "      <td>2.641052</td>\n",
       "      <td>-1.359708</td>\n",
       "      <td>1</td>\n",
       "    </tr>\n",
       "    <tr>\n",
       "      <th>25</th>\n",
       "      <td>1.374004</td>\n",
       "      <td>0.203009</td>\n",
       "      <td>1</td>\n",
       "    </tr>\n",
       "    <tr>\n",
       "      <th>9</th>\n",
       "      <td>0.534894</td>\n",
       "      <td>1.699557</td>\n",
       "      <td>1</td>\n",
       "    </tr>\n",
       "    <tr>\n",
       "      <th>78</th>\n",
       "      <td>0.592516</td>\n",
       "      <td>0.620081</td>\n",
       "      <td>0</td>\n",
       "    </tr>\n",
       "    <tr>\n",
       "      <th>99</th>\n",
       "      <td>0.377949</td>\n",
       "      <td>2.229254</td>\n",
       "      <td>1</td>\n",
       "    </tr>\n",
       "    <tr>\n",
       "      <th>10</th>\n",
       "      <td>-0.961543</td>\n",
       "      <td>-0.108072</td>\n",
       "      <td>0</td>\n",
       "    </tr>\n",
       "    <tr>\n",
       "      <th>19</th>\n",
       "      <td>-0.877251</td>\n",
       "      <td>-0.733357</td>\n",
       "      <td>0</td>\n",
       "    </tr>\n",
       "    <tr>\n",
       "      <th>84</th>\n",
       "      <td>0.184151</td>\n",
       "      <td>-0.404999</td>\n",
       "      <td>1</td>\n",
       "    </tr>\n",
       "    <tr>\n",
       "      <th>6</th>\n",
       "      <td>1.495435</td>\n",
       "      <td>0.818468</td>\n",
       "      <td>1</td>\n",
       "    </tr>\n",
       "    <tr>\n",
       "      <th>68</th>\n",
       "      <td>0.855757</td>\n",
       "      <td>1.063121</td>\n",
       "      <td>1</td>\n",
       "    </tr>\n",
       "    <tr>\n",
       "      <th>83</th>\n",
       "      <td>0.252253</td>\n",
       "      <td>2.033366</td>\n",
       "      <td>1</td>\n",
       "    </tr>\n",
       "    <tr>\n",
       "      <th>65</th>\n",
       "      <td>-2.045141</td>\n",
       "      <td>-0.145213</td>\n",
       "      <td>0</td>\n",
       "    </tr>\n",
       "    <tr>\n",
       "      <th>7</th>\n",
       "      <td>0.264565</td>\n",
       "      <td>2.514265</td>\n",
       "      <td>1</td>\n",
       "    </tr>\n",
       "    <tr>\n",
       "      <th>19</th>\n",
       "      <td>-0.877251</td>\n",
       "      <td>-0.733357</td>\n",
       "      <td>0</td>\n",
       "    </tr>\n",
       "    <tr>\n",
       "      <th>71</th>\n",
       "      <td>1.075847</td>\n",
       "      <td>0.852421</td>\n",
       "      <td>1</td>\n",
       "    </tr>\n",
       "    <tr>\n",
       "      <th>82</th>\n",
       "      <td>1.988775</td>\n",
       "      <td>-0.337734</td>\n",
       "      <td>1</td>\n",
       "    </tr>\n",
       "    <tr>\n",
       "      <th>3</th>\n",
       "      <td>-2.163112</td>\n",
       "      <td>1.172396</td>\n",
       "      <td>0</td>\n",
       "    </tr>\n",
       "    <tr>\n",
       "      <th>53</th>\n",
       "      <td>-0.215571</td>\n",
       "      <td>2.799468</td>\n",
       "      <td>1</td>\n",
       "    </tr>\n",
       "    <tr>\n",
       "      <th>28</th>\n",
       "      <td>0.773904</td>\n",
       "      <td>-1.194977</td>\n",
       "      <td>0</td>\n",
       "    </tr>\n",
       "    <tr>\n",
       "      <th>2</th>\n",
       "      <td>0.903301</td>\n",
       "      <td>0.485502</td>\n",
       "      <td>0</td>\n",
       "    </tr>\n",
       "    <tr>\n",
       "      <th>75</th>\n",
       "      <td>-1.694058</td>\n",
       "      <td>0.879623</td>\n",
       "      <td>0</td>\n",
       "    </tr>\n",
       "    <tr>\n",
       "      <th>38</th>\n",
       "      <td>0.720328</td>\n",
       "      <td>1.846920</td>\n",
       "      <td>1</td>\n",
       "    </tr>\n",
       "    <tr>\n",
       "      <th>91</th>\n",
       "      <td>0.833013</td>\n",
       "      <td>1.340633</td>\n",
       "      <td>1</td>\n",
       "    </tr>\n",
       "    <tr>\n",
       "      <th>90</th>\n",
       "      <td>0.815471</td>\n",
       "      <td>1.082971</td>\n",
       "      <td>1</td>\n",
       "    </tr>\n",
       "    <tr>\n",
       "      <th>73</th>\n",
       "      <td>0.319301</td>\n",
       "      <td>1.570422</td>\n",
       "      <td>1</td>\n",
       "    </tr>\n",
       "    <tr>\n",
       "      <th>81</th>\n",
       "      <td>-0.329794</td>\n",
       "      <td>0.024047</td>\n",
       "      <td>0</td>\n",
       "    </tr>\n",
       "    <tr>\n",
       "      <th>60</th>\n",
       "      <td>1.038624</td>\n",
       "      <td>0.869037</td>\n",
       "      <td>1</td>\n",
       "    </tr>\n",
       "    <tr>\n",
       "      <th>86</th>\n",
       "      <td>-0.472696</td>\n",
       "      <td>1.153851</td>\n",
       "      <td>0</td>\n",
       "    </tr>\n",
       "    <tr>\n",
       "      <th>61</th>\n",
       "      <td>1.502116</td>\n",
       "      <td>1.140771</td>\n",
       "      <td>0</td>\n",
       "    </tr>\n",
       "    <tr>\n",
       "      <th>45</th>\n",
       "      <td>-2.018503</td>\n",
       "      <td>1.523483</td>\n",
       "      <td>0</td>\n",
       "    </tr>\n",
       "    <tr>\n",
       "      <th>17</th>\n",
       "      <td>0.954778</td>\n",
       "      <td>1.245580</td>\n",
       "      <td>1</td>\n",
       "    </tr>\n",
       "    <tr>\n",
       "      <th>22</th>\n",
       "      <td>-0.927973</td>\n",
       "      <td>-0.385750</td>\n",
       "      <td>0</td>\n",
       "    </tr>\n",
       "  </tbody>\n",
       "</table>\n",
       "</div>"
      ],
      "text/plain": [
       "        col1      col5  target\n",
       "30 -1.324493  0.542899       0\n",
       "14  0.130145  1.259167       0\n",
       "22 -0.927973 -0.385750       0\n",
       "10 -0.961543 -0.108072       0\n",
       "71  1.075847  0.852421       1\n",
       "12 -0.830020 -0.529379       0\n",
       "60  1.038624  0.869037       1\n",
       "66  1.936865 -0.412443       1\n",
       "82  1.988775 -0.337734       1\n",
       "59 -2.004889  2.240465       0\n",
       "17  0.954778  1.245580       1\n",
       "30 -1.324493  0.542899       0\n",
       "9   0.534894  1.699557       1\n",
       "77  0.126951  2.393584       1\n",
       "95 -3.208728  2.470146       0\n",
       "24  2.013575 -0.775329       1\n",
       "75 -1.694058  0.879623       0\n",
       "44  2.363563 -0.938748       1\n",
       "76  2.641052 -1.359708       1\n",
       "25  1.374004  0.203009       1\n",
       "9   0.534894  1.699557       1\n",
       "78  0.592516  0.620081       0\n",
       "99  0.377949  2.229254       1\n",
       "10 -0.961543 -0.108072       0\n",
       "19 -0.877251 -0.733357       0\n",
       "84  0.184151 -0.404999       1\n",
       "6   1.495435  0.818468       1\n",
       "68  0.855757  1.063121       1\n",
       "83  0.252253  2.033366       1\n",
       "65 -2.045141 -0.145213       0\n",
       "7   0.264565  2.514265       1\n",
       "19 -0.877251 -0.733357       0\n",
       "71  1.075847  0.852421       1\n",
       "82  1.988775 -0.337734       1\n",
       "3  -2.163112  1.172396       0\n",
       "53 -0.215571  2.799468       1\n",
       "28  0.773904 -1.194977       0\n",
       "2   0.903301  0.485502       0\n",
       "75 -1.694058  0.879623       0\n",
       "38  0.720328  1.846920       1\n",
       "91  0.833013  1.340633       1\n",
       "90  0.815471  1.082971       1\n",
       "73  0.319301  1.570422       1\n",
       "81 -0.329794  0.024047       0\n",
       "60  1.038624  0.869037       1\n",
       "86 -0.472696  1.153851       0\n",
       "61  1.502116  1.140771       0\n",
       "45 -2.018503  1.523483       0\n",
       "17  0.954778  1.245580       1\n",
       "22 -0.927973 -0.385750       0"
      ]
     },
     "execution_count": 73,
     "metadata": {},
     "output_type": "execute_result"
    }
   ],
   "source": [
    "df3"
   ]
  },
  {
   "cell_type": "code",
   "execution_count": 75,
   "id": "26769a22",
   "metadata": {},
   "outputs": [],
   "source": [
    "from sklearn.tree import DecisionTreeClassifier"
   ]
  },
  {
   "cell_type": "code",
   "execution_count": 77,
   "id": "54a24a71",
   "metadata": {},
   "outputs": [],
   "source": [
    "cf1=DecisionTreeClassifier()\n",
    "cf2=DecisionTreeClassifier()\n",
    "cf3=DecisionTreeClassifier()"
   ]
  },
  {
   "cell_type": "code",
   "execution_count": 78,
   "id": "166547d5",
   "metadata": {},
   "outputs": [
    {
     "data": {
      "text/plain": [
       "DecisionTreeClassifier()"
      ]
     },
     "execution_count": 78,
     "metadata": {},
     "output_type": "execute_result"
    }
   ],
   "source": [
    "cf1.fit(df1.iloc[:,0:2],df1.iloc[:,-1])\n",
    "cf2.fit(df2.iloc[:,0:2],df2.iloc[:,-1])\n",
    "cf3.fit(df3.iloc[:,0:2],df3.iloc[:,-1])"
   ]
  },
  {
   "cell_type": "code",
   "execution_count": 79,
   "id": "e9f30e2a",
   "metadata": {},
   "outputs": [],
   "source": [
    "from sklearn.tree import plot_tree"
   ]
  },
  {
   "cell_type": "code",
   "execution_count": 80,
   "id": "3cd5717e",
   "metadata": {},
   "outputs": [
    {
     "data": {
      "text/plain": [
       "[Text(0.5555555555555556, 0.9166666666666666, 'X[1] <= -0.303\\ngini = 0.493\\nsamples = 50\\nvalue = [22, 28]'),\n",
       " Text(0.3333333333333333, 0.75, 'X[1] <= -2.32\\ngini = 0.1\\nsamples = 19\\nvalue = [18, 1]'),\n",
       " Text(0.2222222222222222, 0.5833333333333334, 'X[0] <= 2.063\\ngini = 0.375\\nsamples = 4\\nvalue = [3, 1]'),\n",
       " Text(0.1111111111111111, 0.4166666666666667, 'gini = 0.0\\nsamples = 1\\nvalue = [0, 1]'),\n",
       " Text(0.3333333333333333, 0.4166666666666667, 'gini = 0.0\\nsamples = 3\\nvalue = [3, 0]'),\n",
       " Text(0.4444444444444444, 0.5833333333333334, 'gini = 0.0\\nsamples = 15\\nvalue = [15, 0]'),\n",
       " Text(0.7777777777777778, 0.75, 'X[0] <= 2.882\\ngini = 0.225\\nsamples = 31\\nvalue = [4, 27]'),\n",
       " Text(0.6666666666666666, 0.5833333333333334, 'X[0] <= 1.158\\ngini = 0.128\\nsamples = 29\\nvalue = [2, 27]'),\n",
       " Text(0.5555555555555556, 0.4166666666666667, 'X[0] <= 1.112\\ngini = 0.208\\nsamples = 17\\nvalue = [2, 15]'),\n",
       " Text(0.4444444444444444, 0.25, 'X[1] <= 0.612\\ngini = 0.117\\nsamples = 16\\nvalue = [1, 15]'),\n",
       " Text(0.3333333333333333, 0.08333333333333333, 'gini = 0.0\\nsamples = 1\\nvalue = [1, 0]'),\n",
       " Text(0.5555555555555556, 0.08333333333333333, 'gini = 0.0\\nsamples = 15\\nvalue = [0, 15]'),\n",
       " Text(0.6666666666666666, 0.25, 'gini = 0.0\\nsamples = 1\\nvalue = [1, 0]'),\n",
       " Text(0.7777777777777778, 0.4166666666666667, 'gini = 0.0\\nsamples = 12\\nvalue = [0, 12]'),\n",
       " Text(0.8888888888888888, 0.5833333333333334, 'gini = 0.0\\nsamples = 2\\nvalue = [2, 0]')]"
      ]
     },
     "execution_count": 80,
     "metadata": {},
     "output_type": "execute_result"
    },
    {
     "data": {
      "image/png": "[encoded data removed]",
      "text/plain": [
       "<Figure size 640x480 with 1 Axes>"
      ]
     },
     "metadata": {},
     "output_type": "display_data"
    }
   ],
   "source": [
    "plot_tree(cf1)"
   ]
  },
  {
   "cell_type": "code",
   "execution_count": 81,
   "id": "39ff5dec",
   "metadata": {},
   "outputs": [
    {
     "data": {
      "text/plain": [
       "[Text(0.5357142857142857, 0.9545454545454546, 'X[0] <= 0.968\\ngini = 0.499\\nsamples = 50\\nvalue = [26, 24]'),\n",
       " Text(0.2857142857142857, 0.8636363636363636, 'X[0] <= -0.4\\ngini = 0.444\\nsamples = 36\\nvalue = [24, 12]'),\n",
       " Text(0.14285714285714285, 0.7727272727272727, 'X[1] <= 2.252\\ngini = 0.245\\nsamples = 14\\nvalue = [12, 2]'),\n",
       " Text(0.07142857142857142, 0.6818181818181818, 'gini = 0.0\\nsamples = 12\\nvalue = [12, 0]'),\n",
       " Text(0.21428571428571427, 0.6818181818181818, 'gini = 0.0\\nsamples = 2\\nvalue = [0, 2]'),\n",
       " Text(0.42857142857142855, 0.7727272727272727, 'X[0] <= -0.327\\ngini = 0.496\\nsamples = 22\\nvalue = [12, 10]'),\n",
       " Text(0.35714285714285715, 0.6818181818181818, 'gini = 0.0\\nsamples = 4\\nvalue = [0, 4]'),\n",
       " Text(0.5, 0.6818181818181818, 'X[1] <= 2.635\\ngini = 0.444\\nsamples = 18\\nvalue = [12, 6]'),\n",
       " Text(0.42857142857142855, 0.5909090909090909, 'X[1] <= 1.96\\ngini = 0.49\\nsamples = 14\\nvalue = [8, 6]'),\n",
       " Text(0.35714285714285715, 0.5, 'X[0] <= 0.398\\ngini = 0.444\\nsamples = 12\\nvalue = [8, 4]'),\n",
       " Text(0.2857142857142857, 0.4090909090909091, 'X[0] <= 0.25\\ngini = 0.49\\nsamples = 7\\nvalue = [3, 4]'),\n",
       " Text(0.21428571428571427, 0.3181818181818182, 'X[1] <= 1.209\\ngini = 0.48\\nsamples = 5\\nvalue = [3, 2]'),\n",
       " Text(0.14285714285714285, 0.22727272727272727, 'X[0] <= -0.232\\ngini = 0.444\\nsamples = 3\\nvalue = [1, 2]'),\n",
       " Text(0.07142857142857142, 0.13636363636363635, 'gini = 0.0\\nsamples = 1\\nvalue = [0, 1]'),\n",
       " Text(0.21428571428571427, 0.13636363636363635, 'X[0] <= -0.001\\ngini = 0.5\\nsamples = 2\\nvalue = [1, 1]'),\n",
       " Text(0.14285714285714285, 0.045454545454545456, 'gini = 0.0\\nsamples = 1\\nvalue = [1, 0]'),\n",
       " Text(0.2857142857142857, 0.045454545454545456, 'gini = 0.0\\nsamples = 1\\nvalue = [0, 1]'),\n",
       " Text(0.2857142857142857, 0.22727272727272727, 'gini = 0.0\\nsamples = 2\\nvalue = [2, 0]'),\n",
       " Text(0.35714285714285715, 0.3181818181818182, 'gini = 0.0\\nsamples = 2\\nvalue = [0, 2]'),\n",
       " Text(0.42857142857142855, 0.4090909090909091, 'gini = 0.0\\nsamples = 5\\nvalue = [5, 0]'),\n",
       " Text(0.5, 0.5, 'gini = 0.0\\nsamples = 2\\nvalue = [0, 2]'),\n",
       " Text(0.5714285714285714, 0.5909090909090909, 'gini = 0.0\\nsamples = 4\\nvalue = [4, 0]'),\n",
       " Text(0.7857142857142857, 0.8636363636363636, 'X[0] <= 1.735\\ngini = 0.245\\nsamples = 14\\nvalue = [2, 12]'),\n",
       " Text(0.7142857142857143, 0.7727272727272727, 'gini = 0.0\\nsamples = 8\\nvalue = [0, 8]'),\n",
       " Text(0.8571428571428571, 0.7727272727272727, 'X[0] <= 1.91\\ngini = 0.444\\nsamples = 6\\nvalue = [2, 4]'),\n",
       " Text(0.7857142857142857, 0.6818181818181818, 'X[1] <= -0.241\\ngini = 0.444\\nsamples = 3\\nvalue = [2, 1]'),\n",
       " Text(0.7142857142857143, 0.5909090909090909, 'gini = 0.0\\nsamples = 1\\nvalue = [0, 1]'),\n",
       " Text(0.8571428571428571, 0.5909090909090909, 'gini = 0.0\\nsamples = 2\\nvalue = [2, 0]'),\n",
       " Text(0.9285714285714286, 0.6818181818181818, 'gini = 0.0\\nsamples = 3\\nvalue = [0, 3]')]"
      ]
     },
     "execution_count": 81,
     "metadata": {},
     "output_type": "execute_result"
    },
    {
     "data": {
      "image/png": "[encoded data removed]",
      "text/plain": [
       "<Figure size 640x480 with 1 Axes>"
      ]
     },
     "metadata": {},
     "output_type": "display_data"
    }
   ],
   "source": [
    "plot_tree(cf2)"
   ]
  },
  {
   "cell_type": "code",
   "execution_count": 82,
   "id": "835c9f31",
   "metadata": {},
   "outputs": [
    {
     "data": {
      "text/plain": [
       "[Text(0.4583333333333333, 0.9285714285714286, 'X[0] <= -0.273\\ngini = 0.497\\nsamples = 50\\nvalue = [23, 27]'),\n",
       " Text(0.375, 0.7857142857142857, 'gini = 0.0\\nsamples = 18\\nvalue = [18, 0]'),\n",
       " Text(0.5416666666666666, 0.7857142857142857, 'X[1] <= 1.3\\ngini = 0.264\\nsamples = 32\\nvalue = [5, 27]'),\n",
       " Text(0.4583333333333333, 0.6428571428571429, 'X[0] <= 0.795\\ngini = 0.351\\nsamples = 22\\nvalue = [5, 17]'),\n",
       " Text(0.25, 0.5, 'X[1] <= 0.108\\ngini = 0.375\\nsamples = 4\\nvalue = [3, 1]'),\n",
       " Text(0.16666666666666666, 0.35714285714285715, 'X[1] <= -0.8\\ngini = 0.5\\nsamples = 2\\nvalue = [1, 1]'),\n",
       " Text(0.08333333333333333, 0.21428571428571427, 'gini = 0.0\\nsamples = 1\\nvalue = [1, 0]'),\n",
       " Text(0.25, 0.21428571428571427, 'gini = 0.0\\nsamples = 1\\nvalue = [0, 1]'),\n",
       " Text(0.3333333333333333, 0.35714285714285715, 'gini = 0.0\\nsamples = 2\\nvalue = [2, 0]'),\n",
       " Text(0.6666666666666666, 0.5, 'X[1] <= 1.112\\ngini = 0.198\\nsamples = 18\\nvalue = [2, 16]'),\n",
       " Text(0.5, 0.35714285714285715, 'X[0] <= 0.971\\ngini = 0.124\\nsamples = 15\\nvalue = [1, 14]'),\n",
       " Text(0.4166666666666667, 0.21428571428571427, 'X[1] <= 0.774\\ngini = 0.444\\nsamples = 3\\nvalue = [1, 2]'),\n",
       " Text(0.3333333333333333, 0.07142857142857142, 'gini = 0.0\\nsamples = 1\\nvalue = [1, 0]'),\n",
       " Text(0.5, 0.07142857142857142, 'gini = 0.0\\nsamples = 2\\nvalue = [0, 2]'),\n",
       " Text(0.5833333333333334, 0.21428571428571427, 'gini = 0.0\\nsamples = 12\\nvalue = [0, 12]'),\n",
       " Text(0.8333333333333334, 0.35714285714285715, 'X[0] <= 1.228\\ngini = 0.444\\nsamples = 3\\nvalue = [1, 2]'),\n",
       " Text(0.75, 0.21428571428571427, 'gini = 0.0\\nsamples = 2\\nvalue = [0, 2]'),\n",
       " Text(0.9166666666666666, 0.21428571428571427, 'gini = 0.0\\nsamples = 1\\nvalue = [1, 0]'),\n",
       " Text(0.625, 0.6428571428571429, 'gini = 0.0\\nsamples = 10\\nvalue = [0, 10]')]"
      ]
     },
     "execution_count": 82,
     "metadata": {},
     "output_type": "execute_result"
    },
    {
     "data": {
      "image/png": "[encoded data removed]",
      "text/plain": [
       "<Figure size 640x480 with 1 Axes>"
      ]
     },
     "metadata": {},
     "output_type": "display_data"
    }
   ],
   "source": [
    "plot_tree(cf3)"
   ]
  },
  {
   "cell_type": "code",
   "execution_count": 83,
   "id": "5b3bfb6b",
   "metadata": {},
   "outputs": [
    {
     "name": "stderr",
     "output_type": "stream",
     "text": [
      "C:\\Users\\KIIT\\anaconda3\\lib\\site-packages\\sklearn\\base.py:450: UserWarning: X does not have valid feature names, but DecisionTreeClassifier was fitted with feature names\n",
      "  warnings.warn(\n"
     ]
    },
    {
     "data": {
      "text/plain": [
       "array([0])"
      ]
     },
     "execution_count": 83,
     "metadata": {},
     "output_type": "execute_result"
    }
   ],
   "source": [
    "cf1.predict(np.array([-1.042498,-0.064323]).reshape(1,2))"
   ]
  },
  {
   "cell_type": "code",
   "execution_count": 84,
   "id": "07684244",
   "metadata": {},
   "outputs": [
    {
     "name": "stderr",
     "output_type": "stream",
     "text": [
      "C:\\Users\\KIIT\\anaconda3\\lib\\site-packages\\sklearn\\base.py:450: UserWarning: X does not have valid feature names, but DecisionTreeClassifier was fitted with feature names\n",
      "  warnings.warn(\n"
     ]
    },
    {
     "data": {
      "text/plain": [
       "array([0])"
      ]
     },
     "execution_count": 84,
     "metadata": {},
     "output_type": "execute_result"
    }
   ],
   "source": [
    "cf2.predict(np.array([-1.042498,-0.064323]).reshape(1,2))"
   ]
  },
  {
   "cell_type": "code",
   "execution_count": 85,
   "id": "8d306883",
   "metadata": {},
   "outputs": [
    {
     "name": "stderr",
     "output_type": "stream",
     "text": [
      "C:\\Users\\KIIT\\anaconda3\\lib\\site-packages\\sklearn\\base.py:450: UserWarning: X does not have valid feature names, but DecisionTreeClassifier was fitted with feature names\n",
      "  warnings.warn(\n"
     ]
    },
    {
     "data": {
      "text/plain": [
       "array([0])"
      ]
     },
     "execution_count": 85,
     "metadata": {},
     "output_type": "execute_result"
    }
   ],
   "source": [
    "cf3.predict(np.array([-1.042498,-0.064323]).reshape(1,2))"
   ]
  },
  {
   "cell_type": "code",
   "execution_count": 86,
   "id": "a11a932d",
   "metadata": {},
   "outputs": [
    {
     "data": {
      "text/html": [
       "<div>\n",
       "<style scoped>\n",
       "    .dataframe tbody tr th:only-of-type {\n",
       "        vertical-align: middle;\n",
       "    }\n",
       "\n",
       "    .dataframe tbody tr th {\n",
       "        vertical-align: top;\n",
       "    }\n",
       "\n",
       "    .dataframe thead th {\n",
       "        text-align: right;\n",
       "    }\n",
       "</style>\n",
       "<table border=\"1\" class=\"dataframe\">\n",
       "  <thead>\n",
       "    <tr style=\"text-align: right;\">\n",
       "      <th></th>\n",
       "      <th>col1</th>\n",
       "      <th>col2</th>\n",
       "      <th>col3</th>\n",
       "      <th>col4</th>\n",
       "      <th>col5</th>\n",
       "      <th>target</th>\n",
       "    </tr>\n",
       "  </thead>\n",
       "  <tbody>\n",
       "    <tr>\n",
       "      <th>59</th>\n",
       "      <td>-2.004889</td>\n",
       "      <td>-2.292945</td>\n",
       "      <td>1.808164</td>\n",
       "      <td>-1.946936</td>\n",
       "      <td>2.240465</td>\n",
       "      <td>0</td>\n",
       "    </tr>\n",
       "    <tr>\n",
       "      <th>73</th>\n",
       "      <td>0.319301</td>\n",
       "      <td>-0.674620</td>\n",
       "      <td>-1.216114</td>\n",
       "      <td>3.009032</td>\n",
       "      <td>1.570422</td>\n",
       "      <td>1</td>\n",
       "    </tr>\n",
       "    <tr>\n",
       "      <th>50</th>\n",
       "      <td>-0.238707</td>\n",
       "      <td>1.028579</td>\n",
       "      <td>1.867330</td>\n",
       "      <td>-0.119797</td>\n",
       "      <td>2.976348</td>\n",
       "      <td>1</td>\n",
       "    </tr>\n",
       "    <tr>\n",
       "      <th>53</th>\n",
       "      <td>-0.215571</td>\n",
       "      <td>-1.114579</td>\n",
       "      <td>-1.012860</td>\n",
       "      <td>2.185805</td>\n",
       "      <td>2.799468</td>\n",
       "      <td>1</td>\n",
       "    </tr>\n",
       "    <tr>\n",
       "      <th>74</th>\n",
       "      <td>-1.483453</td>\n",
       "      <td>-0.783058</td>\n",
       "      <td>1.092698</td>\n",
       "      <td>-1.001273</td>\n",
       "      <td>0.297562</td>\n",
       "      <td>0</td>\n",
       "    </tr>\n",
       "    <tr>\n",
       "      <th>18</th>\n",
       "      <td>0.649833</td>\n",
       "      <td>-0.327838</td>\n",
       "      <td>0.082100</td>\n",
       "      <td>-0.265408</td>\n",
       "      <td>0.770088</td>\n",
       "      <td>0</td>\n",
       "    </tr>\n",
       "    <tr>\n",
       "      <th>66</th>\n",
       "      <td>1.936865</td>\n",
       "      <td>0.173288</td>\n",
       "      <td>-0.020681</td>\n",
       "      <td>1.153342</td>\n",
       "      <td>-0.412443</td>\n",
       "      <td>1</td>\n",
       "    </tr>\n",
       "    <tr>\n",
       "      <th>10</th>\n",
       "      <td>-0.961543</td>\n",
       "      <td>-0.220657</td>\n",
       "      <td>2.814212</td>\n",
       "      <td>-2.449974</td>\n",
       "      <td>-0.108072</td>\n",
       "      <td>0</td>\n",
       "    </tr>\n",
       "    <tr>\n",
       "      <th>76</th>\n",
       "      <td>2.641052</td>\n",
       "      <td>1.583879</td>\n",
       "      <td>1.918802</td>\n",
       "      <td>1.049481</td>\n",
       "      <td>-1.359708</td>\n",
       "      <td>1</td>\n",
       "    </tr>\n",
       "    <tr>\n",
       "      <th>71</th>\n",
       "      <td>1.075847</td>\n",
       "      <td>2.847427</td>\n",
       "      <td>3.191032</td>\n",
       "      <td>-0.632241</td>\n",
       "      <td>0.852421</td>\n",
       "      <td>1</td>\n",
       "    </tr>\n",
       "    <tr>\n",
       "      <th>37</th>\n",
       "      <td>-2.401355</td>\n",
       "      <td>-2.367924</td>\n",
       "      <td>1.937957</td>\n",
       "      <td>-3.113298</td>\n",
       "      <td>0.518991</td>\n",
       "      <td>0</td>\n",
       "    </tr>\n",
       "    <tr>\n",
       "      <th>77</th>\n",
       "      <td>0.126951</td>\n",
       "      <td>0.658655</td>\n",
       "      <td>1.058086</td>\n",
       "      <td>0.606876</td>\n",
       "      <td>2.393584</td>\n",
       "      <td>1</td>\n",
       "    </tr>\n",
       "    <tr>\n",
       "      <th>78</th>\n",
       "      <td>0.592516</td>\n",
       "      <td>0.709615</td>\n",
       "      <td>1.765451</td>\n",
       "      <td>-0.668173</td>\n",
       "      <td>0.620081</td>\n",
       "      <td>0</td>\n",
       "    </tr>\n",
       "    <tr>\n",
       "      <th>42</th>\n",
       "      <td>0.610083</td>\n",
       "      <td>0.441271</td>\n",
       "      <td>0.152794</td>\n",
       "      <td>1.426198</td>\n",
       "      <td>1.598381</td>\n",
       "      <td>1</td>\n",
       "    </tr>\n",
       "  </tbody>\n",
       "</table>\n",
       "</div>"
      ],
      "text/plain": [
       "        col1      col2      col3      col4      col5  target\n",
       "59 -2.004889 -2.292945  1.808164 -1.946936  2.240465       0\n",
       "73  0.319301 -0.674620 -1.216114  3.009032  1.570422       1\n",
       "50 -0.238707  1.028579  1.867330 -0.119797  2.976348       1\n",
       "53 -0.215571 -1.114579 -1.012860  2.185805  2.799468       1\n",
       "74 -1.483453 -0.783058  1.092698 -1.001273  0.297562       0\n",
       "18  0.649833 -0.327838  0.082100 -0.265408  0.770088       0\n",
       "66  1.936865  0.173288 -0.020681  1.153342 -0.412443       1\n",
       "10 -0.961543 -0.220657  2.814212 -2.449974 -0.108072       0\n",
       "76  2.641052  1.583879  1.918802  1.049481 -1.359708       1\n",
       "71  1.075847  2.847427  3.191032 -0.632241  0.852421       1\n",
       "37 -2.401355 -2.367924  1.937957 -3.113298  0.518991       0\n",
       "77  0.126951  0.658655  1.058086  0.606876  2.393584       1\n",
       "78  0.592516  0.709615  1.765451 -0.668173  0.620081       0\n",
       "42  0.610083  0.441271  0.152794  1.426198  1.598381       1"
      ]
     },
     "execution_count": 86,
     "metadata": {},
     "output_type": "execute_result"
    }
   ],
   "source": [
    "df.sample(14,replace=True)"
   ]
  },
  {
   "cell_type": "code",
   "execution_count": 87,
   "id": "bfdeff47",
   "metadata": {},
   "outputs": [
    {
     "name": "stderr",
     "output_type": "stream",
     "text": [
      "C:\\Users\\KIIT\\anaconda3\\lib\\site-packages\\sklearn\\base.py:450: UserWarning: X does not have valid feature names, but DecisionTreeClassifier was fitted with feature names\n",
      "  warnings.warn(\n"
     ]
    },
    {
     "data": {
      "text/plain": [
       "array([1])"
      ]
     },
     "execution_count": 87,
     "metadata": {},
     "output_type": "execute_result"
    }
   ],
   "source": [
    "cf1.predict(np.array([-0.215571,2.799468]).reshape(1,2))"
   ]
  },
  {
   "cell_type": "code",
   "execution_count": 88,
   "id": "d81f1e08",
   "metadata": {},
   "outputs": [
    {
     "name": "stderr",
     "output_type": "stream",
     "text": [
      "C:\\Users\\KIIT\\anaconda3\\lib\\site-packages\\sklearn\\base.py:450: UserWarning: X does not have valid feature names, but DecisionTreeClassifier was fitted with feature names\n",
      "  warnings.warn(\n"
     ]
    },
    {
     "data": {
      "text/plain": [
       "array([0])"
      ]
     },
     "execution_count": 88,
     "metadata": {},
     "output_type": "execute_result"
    }
   ],
   "source": [
    "cf2.predict(np.array([-0.215571,2.799468]).reshape(1,2))"
   ]
  },
  {
   "cell_type": "code",
   "execution_count": 89,
   "id": "299646b3",
   "metadata": {},
   "outputs": [
    {
     "name": "stderr",
     "output_type": "stream",
     "text": [
      "C:\\Users\\KIIT\\anaconda3\\lib\\site-packages\\sklearn\\base.py:450: UserWarning: X does not have valid feature names, but DecisionTreeClassifier was fitted with feature names\n",
      "  warnings.warn(\n"
     ]
    },
    {
     "data": {
      "text/plain": [
       "array([1])"
      ]
     },
     "execution_count": 89,
     "metadata": {},
     "output_type": "execute_result"
    }
   ],
   "source": [
    "cf3.predict(np.array([-0.215571,2.799468]).reshape(1,2))"
   ]
  },
  {
   "cell_type": "code",
   "execution_count": null,
   "id": "3f2a92c1",
   "metadata": {},
   "outputs": [],
   "source": [
    " # we got 2 times 1 and 1 time 0\n",
    "# so it will be 1\n",
    "# and in actual data-set it was 1 so answer is correct"
   ]
  }
 ],
 "metadata": {
  "kernelspec": {
   "display_name": "Python 3 (ipykernel)",
   "language": "python",
   "name": "python3"
  },
  "language_info": {
   "codemirror_mode": {
    "name": "ipython",
    "version": 3
   },
   "file_extension": ".py",
   "mimetype": "text/x-python",
   "name": "python",
   "nbconvert_exporter": "python",
   "pygments_lexer": "ipython3",
   "version": "3.9.13"
  }
 },
 "nbformat": 4,
 "nbformat_minor": 5
}
