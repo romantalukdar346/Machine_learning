{
 "cells": [
  {
   "cell_type": "code",
   "execution_count": 21,
   "id": "281ecddf",
   "metadata": {},
   "outputs": [],
   "source": [
    "from sklearn.datasets import load_diabetes\n",
    "import numpy as np\n",
    "from sklearn.linear_model import LinearRegression\n",
    "from sklearn.metrics import r2_score\n",
    "from sklearn.model_selection import train_test_split"
   ]
  },
  {
   "cell_type": "code",
   "execution_count": 22,
   "id": "6c1586e5",
   "metadata": {},
   "outputs": [],
   "source": [
    "X,y = load_diabetes(return_X_y=True)\n"
   ]
  },
  {
   "cell_type": "code",
   "execution_count": 23,
   "id": "6cf7cb4c",
   "metadata": {},
   "outputs": [
    {
     "name": "stdout",
     "output_type": "stream",
     "text": [
      "(442, 10)\n",
      "(442,)\n"
     ]
    }
   ],
   "source": [
    "print(X.shape)\n",
    "print(y.shape)"
   ]
  },
  {
   "cell_type": "code",
   "execution_count": 24,
   "id": "a016ddcf",
   "metadata": {},
   "outputs": [],
   "source": [
    "X_train,X_test,y_train,y_test = train_test_split(X,y,test_size=0.2,random_state=2)"
   ]
  },
  {
   "cell_type": "code",
   "execution_count": 25,
   "id": "24e7383b",
   "metadata": {},
   "outputs": [
    {
     "data": {
      "text/plain": [
       "LinearRegression()"
      ]
     },
     "execution_count": 25,
     "metadata": {},
     "output_type": "execute_result"
    }
   ],
   "source": [
    "reg = LinearRegression()\n",
    "reg.fit(X_train,y_train)"
   ]
  },
  {
   "cell_type": "code",
   "execution_count": 26,
   "id": "553a273d",
   "metadata": {},
   "outputs": [
    {
     "name": "stdout",
     "output_type": "stream",
     "text": [
      "[  -9.16088483 -205.46225988  516.68462383  340.62734108 -895.54360867\n",
      "  561.21453306  153.88478595  126.73431596  861.12139955   52.41982836]\n",
      "151.88334520854633\n"
     ]
    }
   ],
   "source": [
    "print(reg.coef_)\n",
    "print(reg.intercept_)"
   ]
  },
  {
   "cell_type": "code",
   "execution_count": 27,
   "id": "ecc90ca3",
   "metadata": {},
   "outputs": [
    {
     "data": {
      "text/plain": [
       "0.4399387660024645"
      ]
     },
     "execution_count": 27,
     "metadata": {},
     "output_type": "execute_result"
    }
   ],
   "source": [
    "y_pred = reg.predict(X_test)\n",
    "r2_score(y_test,y_pred)"
   ]
  },
  {
   "cell_type": "code",
   "execution_count": 28,
   "id": "2a0dd1b9",
   "metadata": {},
   "outputs": [
    {
     "data": {
      "text/plain": [
       "(353, 10)"
      ]
     },
     "execution_count": 28,
     "metadata": {},
     "output_type": "execute_result"
    }
   ],
   "source": [
    "X_train.shape"
   ]
  },
  {
   "cell_type": "code",
   "execution_count": 55,
   "id": "93260637",
   "metadata": {},
   "outputs": [],
   "source": [
    "class GDreg:\n",
    "    def __init__(self,epoch,lr):\n",
    "        self.coef_=0\n",
    "        self.inter_=0\n",
    "        self.epoch=epoch\n",
    "        self.lr=lr\n",
    "    def fit(self,x_train,y_train):\n",
    "        self.coef_=np.ones(x_train.shape[1])\n",
    "        for i in range(self.epoch):\n",
    "            y_hat=self.inter_+np.dot(x_train,self.coef_)\n",
    "            inter_der=-2* np.mean(y_train-y_hat)\n",
    "            self.inter_= self.inter_ -(self.lr*inter_der)\n",
    "\n",
    "            coef_der=-2* np.dot((y_train-y_hat),x_train)/x_train.shape[0]\n",
    "            self.coef_= self.coef_ -(self.lr*coef_der)\n",
    "        print(self.inter_,self.coef_)\n",
    "    def pradict(self,x_test):\n",
    "        y_par= self.inter_+np.dot(x_test,self.coef_)\n",
    "        return y_par"
   ]
  },
  {
   "cell_type": "code",
   "execution_count": 56,
   "id": "c0a4d36e",
   "metadata": {},
   "outputs": [],
   "source": [
    "gdr = GDreg(epoch=1000,lr=0.5)"
   ]
  },
  {
   "cell_type": "code",
   "execution_count": 57,
   "id": "64bd68d6",
   "metadata": {},
   "outputs": [
    {
     "name": "stdout",
     "output_type": "stream",
     "text": [
      "152.0135263267291 [  14.38915082 -173.72674118  491.54504015  323.91983579  -39.32680194\n",
      " -116.01099114 -194.04229501  103.38216641  451.63385893   97.57119174]\n"
     ]
    }
   ],
   "source": [
    "gdr.fit(X_train,y_train)"
   ]
  },
  {
   "cell_type": "code",
   "execution_count": 61,
   "id": "10701bee",
   "metadata": {},
   "outputs": [],
   "source": [
    "y_pred = gdr.pradict(X_test)"
   ]
  },
  {
   "cell_type": "code",
   "execution_count": 62,
   "id": "69e14761",
   "metadata": {},
   "outputs": [
    {
     "data": {
      "text/plain": [
       "array([152.26512283, 198.96175071, 127.65540453, 104.59794854,\n",
       "       265.22834477, 252.09392807, 112.76690623, 115.72383837,\n",
       "        96.37727608, 187.64889244, 144.94670693, 172.1093227 ,\n",
       "       178.81610755, 136.51542705, 292.15551613,  87.25600172,\n",
       "       202.18461267, 149.11367922, 132.30575626, 128.70595182,\n",
       "       148.38868987, 171.81031988, 150.93553303, 174.47388655,\n",
       "       127.76334297, 221.82183684, 199.96955713, 101.54576886,\n",
       "        54.86066772, 237.61810578, 244.28078479, 112.92077443,\n",
       "        68.12337648,  96.00589478, 204.3306702 , 163.99943936,\n",
       "       160.95031528, 191.90318689, 113.33656388, 238.46003145,\n",
       "       141.40088354, 120.45615536, 188.12597726, 186.46691527,\n",
       "       174.9833253 , 143.24655626, 168.80909664, 299.18095956,\n",
       "       105.40795141, 169.51988136, 254.37696756, 142.60183762,\n",
       "       151.71576374, 122.70764958, 191.52751592,  94.27960157,\n",
       "       129.04105972,  75.96163754, 157.91663865, 156.36630212,\n",
       "       163.20235297, 160.93195784, 102.2990123 , 227.76267651,\n",
       "       146.38700863, 130.09076249, 161.03128589, 192.83418861,\n",
       "       122.94974681, 126.86148235, 217.80004073, 199.20327672,\n",
       "       123.42108312, 154.18925248, 146.26878299, 112.40129784,\n",
       "        80.42602486,  77.96208391, 169.32834188,  81.10848578,\n",
       "        97.26120401,  97.98058958, 179.31660261, 275.58329855,\n",
       "       206.20900191, 146.76638531, 282.56273003, 202.33823946,\n",
       "        98.43082453])"
      ]
     },
     "execution_count": 62,
     "metadata": {},
     "output_type": "execute_result"
    }
   ],
   "source": [
    "y_pred"
   ]
  },
  {
   "cell_type": "code",
   "execution_count": 63,
   "id": "693433c4",
   "metadata": {},
   "outputs": [
    {
     "data": {
      "text/plain": [
       "0.4534524671450598"
      ]
     },
     "execution_count": 63,
     "metadata": {},
     "output_type": "execute_result"
    }
   ],
   "source": [
    "r2_score(y_test,y_pred)"
   ]
  },
  {
   "cell_type": "code",
   "execution_count": null,
   "id": "60ba7345",
   "metadata": {},
   "outputs": [],
   "source": []
  }
 ],
 "metadata": {
  "kernelspec": {
   "display_name": "Python 3 (ipykernel)",
   "language": "python",
   "name": "python3"
  },
  "language_info": {
   "codemirror_mode": {
    "name": "ipython",
    "version": 3
   },
   "file_extension": ".py",
   "mimetype": "text/x-python",
   "name": "python",
   "nbconvert_exporter": "python",
   "pygments_lexer": "ipython3",
   "version": "3.9.13"
  }
 },
 "nbformat": 4,
 "nbformat_minor": 5
}
